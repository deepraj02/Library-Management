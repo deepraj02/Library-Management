{
  "nbformat": 4,
  "nbformat_minor": 0,
  "metadata": {
    "colab": {
      "name": "Projects.ipynb",
      "provenance": [],
      "collapsed_sections": [],
      "authorship_tag": "ABX9TyMdhFuNbYoMnydwqDeUW3TP",
      "include_colab_link": true
    },
    "kernelspec": {
      "name": "python3",
      "display_name": "Python 3"
    }
  },
  "cells": [
    {
      "cell_type": "markdown",
      "metadata": {
        "id": "view-in-github",
        "colab_type": "text"
      },
      "source": [
        "<a href=\"https://colab.research.google.com/github/deepraj02/Python_projects/blob/master/Projects.ipynb\" target=\"_parent\"><img src=\"https://colab.research.google.com/assets/colab-badge.svg\" alt=\"Open In Colab\"/></a>"
      ]
    },
    {
      "cell_type": "code",
      "metadata": {
        "id": "bYbvEHJTmT1O"
      },
      "source": [
        "n=int(input(\"Enter any number:- \\n\"))\n",
        "for i in range(n+1):\n",
        "  if i%5==0 and i%3==0:\n",
        "    print(\"This number is divisible by 5 and 3\")\n",
        "    continue\n",
        "  elif i%5!=0 and i%3==0:\n",
        "    print(\"This number is divisible by 3 but not by 5\")\n",
        "    continue\n",
        "  elif i%5==0 and i%3!=0:\n",
        "    print(\"This number is divisible by 5 but not by 3\")\n",
        "    continue\n",
        "\n",
        "  print(i)"
      ],
      "execution_count": null,
      "outputs": []
    },
    {
      "cell_type": "code",
      "metadata": {
        "id": "usZL9ZmxmzlK",
        "colab": {
          "base_uri": "https://localhost:8080/",
          "height": 33
        },
        "outputId": "cc4b473a-af31-421c-f575-6a2234070cd5"
      },
      "source": [
        "def oddeven(lst):\n",
        "    new_list=[]\n",
        "    for i in lst:\n",
        "        if i%2==0:\n",
        "            new_list.append(i//2)\n",
        "        else:\n",
        "            new_list.append(i*2)\n",
        "    print(new_list)\n",
        "lst=[12,34,55,67,90,86]\n",
        "oddeven(lst)\n"
      ],
      "execution_count": null,
      "outputs": [
        {
          "output_type": "stream",
          "text": [
            "[6, 17, 110, 134, 45, 43]\n"
          ],
          "name": "stdout"
        }
      ]
    },
    {
      "cell_type": "code",
      "metadata": {
        "id": "xwaHUEcAAFOt",
        "colab": {
          "base_uri": "https://localhost:8080/",
          "height": 50
        },
        "outputId": "82ac35b8-0e3d-4e05-f5de-432f914db9a9"
      },
      "source": [
        "def fuck():\n",
        "    even=0\n",
        "    odd=0\n",
        "    for i in tup:\n",
        "        if i%2==0:\n",
        "            even+=1\n",
        "        else:\n",
        "            odd+=1\n",
        "    print(f\"The Number of Even Numbers in the Tuple is = {even}\")\n",
        "    print(f\"The Number of Odd Numbers in the Tuple is = {odd}\")\n",
        "\n",
        "tup=(12,34,55,77,90,105,22,11,55,9,56)\n",
        "fuck()"
      ],
      "execution_count": null,
      "outputs": [
        {
          "output_type": "stream",
          "text": [
            "The Number of Even Numbers in the Tuple is = 5\n",
            "The Number of Odd Numbers in the Tuple is = 6\n"
          ],
          "name": "stdout"
        }
      ]
    },
    {
      "cell_type": "code",
      "metadata": {
        "id": "MHPoApYn9VIJ",
        "colab": {
          "base_uri": "https://localhost:8080/",
          "height": 50
        },
        "outputId": "3ab7cb69-7ac3-48bc-c27c-04cc1d825b35"
      },
      "source": [
        "e=100\n",
        "w=12\n",
        "r=4\n",
        "print(\"This is\",e,\"and this is \", w , \"and this is \",r)\n",
        "print(f\"This is {e} and this is {w} and this is {r}\")"
      ],
      "execution_count": null,
      "outputs": [
        {
          "output_type": "stream",
          "text": [
            "This is 100 and this is  12 and this is  4\n",
            "This is 100 and this is 12 and this is 4\n"
          ],
          "name": "stdout"
        }
      ]
    },
    {
      "cell_type": "code",
      "metadata": {
        "id": "w3xk8qDa-pnN"
      },
      "source": [
        "def dic():\n",
        "    dkey=int(input(\"Enter any Key\"))\n",
        "    dval=input(\"Enter the Value\")\n",
        "    my_Dict.update({dkey:dval})\n",
        "\n",
        "my_Dict={1:\"Heta\",2:\"Lund\",3:\"Mia Khalifa\"}\n",
        "dic()\n",
        "print(\"Dictionary after Update is-- \")\n",
        "print(my_Dict)"
      ],
      "execution_count": null,
      "outputs": []
    },
    {
      "cell_type": "code",
      "metadata": {
        "id": "nISQrYftA2Nz",
        "colab": {
          "base_uri": "https://localhost:8080/",
          "height": 50
        },
        "outputId": "2ddb7937-441c-488b-8305-25f2e6fc2008"
      },
      "source": [
        "def vowel(str1):\n",
        "    vowel=0\n",
        "    for i in str1:\n",
        "        if i=='a' or i=='e' or i=='i' or i=='o' or i=='u':\n",
        "            vowel+=1\n",
        "    print(f\"No. of Vowels in The string is = {vowel}\")\n",
        "\n",
        "str1=input(\"Enter a String:-- \")\n",
        "vowel(str1)"
      ],
      "execution_count": null,
      "outputs": [
        {
          "output_type": "stream",
          "text": [
            "Enter a String:-- my name is deepraj\n",
            "No. of Vowels in The string is = 6\n"
          ],
          "name": "stdout"
        }
      ]
    },
    {
      "cell_type": "code",
      "metadata": {
        "id": "haYbsggL7oL9"
      },
      "source": [
        "import this\r\n",
        "#Will Print some Fuckin Awesome Poems"
      ],
      "execution_count": null,
      "outputs": []
    },
    {
      "cell_type": "code",
      "metadata": {
        "id": "UD2L2vUbacIY"
      },
      "source": [
        ""
      ],
      "execution_count": null,
      "outputs": []
    },
    {
      "cell_type": "code",
      "metadata": {
        "id": "akBbR13j5zt8",
        "colab": {
          "base_uri": "https://localhost:8080/"
        },
        "outputId": "4c0a24a1-7d3d-4e26-cf13-869e537eb51b"
      },
      "source": [
        "list=[12,23,45,54]\r\n",
        "list.pop(0)\r\n",
        "list.append(32)\r\n",
        "list.insert(3,60)\r\n",
        "print(list)"
      ],
      "execution_count": null,
      "outputs": [
        {
          "output_type": "stream",
          "text": [
            "[23, 45, 54, 60, 32]\n"
          ],
          "name": "stdout"
        }
      ]
    },
    {
      "cell_type": "code",
      "metadata": {
        "colab": {
          "base_uri": "https://localhost:8080/"
        },
        "id": "TvtEnKo8mA1M",
        "outputId": "c703c849-d1b2-4aaf-f8f6-566115fc0af2"
      },
      "source": [
        "#Sorting\r\n",
        "a=[1,5,0,-1,8]\r\n",
        "count=0\r\n",
        "for i in range(len(a)):\r\n",
        "    for j in range(1,len(a)):\r\n",
        "        if a[j-1]>a[j]:\r\n",
        "            count+=1\r\n",
        "            a[j-1],a[j]=a[j],a[j-1]\r\n",
        "print(a)\r\n",
        "print(f\"The no. of times the list was swapped is {count}\")"
      ],
      "execution_count": null,
      "outputs": [
        {
          "output_type": "stream",
          "text": [
            "[-1, 0, 1, 5, 8]\n",
            "The no. of times the list was swapped is 5\n"
          ],
          "name": "stdout"
        }
      ]
    },
    {
      "cell_type": "code",
      "metadata": {
        "id": "nHE0FRRZrDee"
      },
      "source": [
        ""
      ],
      "execution_count": null,
      "outputs": []
    }
  ]
}